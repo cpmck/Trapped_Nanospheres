{
 "cells": [
  {
   "cell_type": "code",
   "execution_count": 2,
   "metadata": {
    "collapsed": false
   },
   "outputs": [],
   "source": [
    "class Harmonic_Paul_trap(object):\n",
    "    def __init__(self, trap_params):\n",
    "        \n",
    "        self.trap_params = trap_params\n",
    "        \n",
    "    def field(self, x):\n",
    "        # assume trap is centred at x = 0\n",
    "        x_atomic = x#*codata.value('atomic unit of length')\n",
    "        trap_params_atomic = self.trap_params*codata.value('atomic unit of electric potential')\n",
    "        field_val = trap_params_atomic*np.power(x_atomic,2)\n",
    "        return np.array(field_val)\n",
    "    \n",
    "    def d2x_field(self,x):\n",
    "        x_atomic = x#*codata.value('atomic unit of length')\n",
    "        trap_params_atomic = self.trap_params*codata.value('atomic unit of electric potential')\n",
    "        field_val = trap_params_atomic*2\n",
    "        return np.array(field_val)\n",
    "    "
   ]
  },
  {
   "cell_type": "code",
   "execution_count": 3,
   "metadata": {
    "collapsed": false
   },
   "outputs": [],
   "source": [
    "class Potential(object):\n",
    "    def __init__(self, trap, sphere_1, sphere_2):\n",
    "        \n",
    "        self.trap = trap\n",
    "        self.sphere_1 = sphere_1\n",
    "        self.sphere_2 = sphere_2\n",
    "        \n",
    "    def potential(self,x):        \n",
    "        \n",
    "        potential_val_trap = self.sphere_1.charge()*self.trap.field(x[[0]]) + sphere_2.charge()*self.trap.field(x[[1]])\n",
    "        potential_val_ions = self.sphere_1.charge()*self.sphere_2.field(x[[0]],x[[1]]) + self.sphere_2.charge()*self.sphere_1.field(x[[0]],x[[1]])\n",
    "        \n",
    "        potential_val = potential_val_trap + potential_val_ions\n",
    "        \n",
    "        return np.array(potential_val)\n",
    "    \n",
    "    def equilibrium(self):\n",
    "        x0 = np.array([-1,1])\n",
    "        res = minimize(self.potential, x0, method='nelder-mead',options={'xtol': 1e-8, 'disp': True})\n",
    "        \n",
    "        return res.x\n",
    "    \n",
    "    \n",
    "    def hessian(self,x):\n",
    "        A = np.zeros((2,2))\n",
    "        A[[0,0]] = self.sphere_1.charge()*self.trap.d2x_field() + self.sphere_2.charge()*self.sphere_1\n",
    "        return A\n",
    "        "
   ]
  },
  {
   "cell_type": "code",
   "execution_count": 4,
   "metadata": {
    "collapsed": false
   },
   "outputs": [],
   "source": [
    "class Nanosphere(object):\n",
    "    def __init__(self, sphere_charge, sphere_radius, sphere_mass):\n",
    "        \n",
    "        self.sphere_charge = sphere_charge\n",
    "        self.sphere_radius = sphere_radius\n",
    "        self.sphere_mass = sphere_mass\n",
    "        \n",
    "    def charge(self):\n",
    "        \n",
    "        charge_val = codata.value('atomic unit of charge')*self.sphere_charge\n",
    "        return np.array(charge_val)\n",
    "    \n",
    "    def mass(self):\n",
    "        \n",
    "        mass_val = codata.value('atomic mass constant')*self.sphere_mass\n",
    "        return np.array(mass_val)\n",
    "    \n",
    "    def field(self,x,x_sphere):\n",
    "        \n",
    "        x_atomic = x*codata.value('atomic unit of length')\n",
    "        x_sphere_atomic = x_sphere*codata.value('atomic unit of length')\n",
    "        vac_perm = codata.value('atomic unit of permittivity')\n",
    "        \n",
    "        field_val = self.charge()/(4.0*np.pi*vac_perm)/np.absolute(x_atomic-x_sphere_atomic)\n",
    "        \n",
    "        return np.array(field_val)\n",
    "    \n",
    "    def d2x_field(self,x,x_sphere):\n",
    "        x_atomic = x*codata.value('atomic unit of length')\n",
    "        x_sphere_atomic = x_sphere*codata.value('atomic unit of length')\n",
    "        vac_perm = codata.value('atomic unit of permittivity')\n",
    "        \n",
    "        d2x_field_val = self.charge()/(4.0*np.pi*vac_perm)/np.power(x_atomic-x_sphere_atomic,3)\n",
    "        \n",
    "        return np.array(d2x_field_val)\n",
    "    \n",
    "        \n",
    "        \n",
    "        "
   ]
  },
  {
   "cell_type": "code",
   "execution_count": 5,
   "metadata": {
    "collapsed": false
   },
   "outputs": [
    {
     "ename": "ImportError",
     "evalue": "No module named scipy",
     "output_type": "error",
     "traceback": [
      "\u001b[0;31m---------------------------------------------------------------------------\u001b[0m",
      "\u001b[0;31mImportError\u001b[0m                               Traceback (most recent call last)",
      "\u001b[0;32m<ipython-input-5-5a0f7d757646>\u001b[0m in \u001b[0;36m<module>\u001b[0;34m()\u001b[0m\n\u001b[0;32m----> 1\u001b[0;31m \u001b[0;32mimport\u001b[0m \u001b[0mscipy\u001b[0m\u001b[0;34m\u001b[0m\u001b[0m\n\u001b[0m\u001b[1;32m      2\u001b[0m \u001b[0;32mfrom\u001b[0m \u001b[0mscipy\u001b[0m\u001b[0;34m.\u001b[0m\u001b[0mconstants\u001b[0m \u001b[0;32mimport\u001b[0m \u001b[0mcodata\u001b[0m\u001b[0;34m\u001b[0m\u001b[0m\n\u001b[1;32m      3\u001b[0m \u001b[0;32mimport\u001b[0m \u001b[0mnumpy\u001b[0m \u001b[0;32mas\u001b[0m \u001b[0mnp\u001b[0m\u001b[0;34m\u001b[0m\u001b[0m\n\u001b[1;32m      4\u001b[0m \u001b[0;32mimport\u001b[0m \u001b[0mmath\u001b[0m\u001b[0;34m\u001b[0m\u001b[0m\n\u001b[1;32m      5\u001b[0m \u001b[0;32mimport\u001b[0m \u001b[0mmatplotlib\u001b[0m\u001b[0;34m.\u001b[0m\u001b[0mpyplot\u001b[0m \u001b[0;32mas\u001b[0m \u001b[0mplt\u001b[0m\u001b[0;34m\u001b[0m\u001b[0m\n",
      "\u001b[0;31mImportError\u001b[0m: No module named scipy"
     ]
    }
   ],
   "source": [
    "import scipy\n",
    "from scipy.constants import codata\n",
    "import numpy as np\n",
    "import math\n",
    "import matplotlib.pyplot as plt\n",
    "import pylab\n",
    "from mpl_toolkits.mplot3d import Axes3D\n",
    "import matplotlib.pyplot as plt\n",
    "from matplotlib import cm\n",
    "from matplotlib.ticker import LinearLocator, FormatStrFormatter\n",
    "import numpy as np\n",
    "from scipy.optimize import minimize"
   ]
  },
  {
   "cell_type": "code",
   "execution_count": 261,
   "metadata": {
    "collapsed": false
   },
   "outputs": [],
   "source": [
    "sphere_1 = Nanosphere(2,1,1)\n",
    "sphere_2 = Nanosphere(2,1,1)\n",
    "\n",
    "trap = Harmonic_Paul_trap(1)\n",
    "pot1 = Potential(trap, sphere_1, sphere_2)"
   ]
  },
  {
   "cell_type": "code",
   "execution_count": 262,
   "metadata": {
    "collapsed": false
   },
   "outputs": [
    {
     "name": "stdout",
     "output_type": "stream",
     "text": [
      "Optimization terminated successfully.\n",
      "         Current function value: 0.000000\n",
      "         Iterations: 70\n",
      "         Function evaluations: 130\n"
     ]
    }
   ],
   "source": [
    "equilibrium_vals = pot1.equilibrium()"
   ]
  },
  {
   "cell_type": "code",
   "execution_count": 263,
   "metadata": {
    "collapsed": false
   },
   "outputs": [
    {
     "data": {
      "text/plain": [
       "[<matplotlib.lines.Line2D at 0x7efc8ae6cd30>]"
      ]
     },
     "execution_count": 263,
     "metadata": {},
     "output_type": "execute_result"
    }
   ],
   "source": [
    "fact = codata.value('atomic unit of length')\n",
    "x = np.linspace(-10,10,1000)\n",
    "field_1 = sphere_1.field(x,equilibrium_vals[[0]])\n",
    "field_2 = sphere_2.field(x,equilibrium_vals[[1]])\n",
    "field_trap = trap.field(x)\n",
    "y = field_1 + field_2 + field_trap\n",
    "plt.plot(x,y)\n",
    "#plt.show()"
   ]
  },
  {
   "cell_type": "code",
   "execution_count": 264,
   "metadata": {
    "collapsed": false
   },
   "outputs": [
    {
     "name": "stdout",
     "output_type": "stream",
     "text": [
      "[-0.34139203  0.34139203]\n"
     ]
    }
   ],
   "source": [
    "print(equilibrium_vals)"
   ]
  },
  {
   "cell_type": "code",
   "execution_count": 265,
   "metadata": {
    "collapsed": false
   },
   "outputs": [
    {
     "ename": "TypeError",
     "evalue": "potential() missing 1 required positional argument: 'x'",
     "output_type": "error",
     "traceback": [
      "\u001b[0;31m---------------------------------------------------------------------------\u001b[0m\n\u001b[0;31mTypeError\u001b[0m                                 Traceback (most recent call last)",
      "\u001b[0;32m<ipython-input-265-8db11c8a67c0>\u001b[0m in \u001b[0;36m<module>\u001b[0;34m()\u001b[0m\n\u001b[0;32m----> 1\u001b[0;31m \u001b[0mpot1\u001b[0m\u001b[0;34m.\u001b[0m\u001b[0mhessian\u001b[0m\u001b[0;34m(\u001b[0m\u001b[0mequilibrium_vals\u001b[0m\u001b[0;34m)\u001b[0m\u001b[0;34m\u001b[0m\u001b[0m\n\u001b[0m",
      "\u001b[0;32m<ipython-input-258-47f8293c413c>\u001b[0m in \u001b[0;36mhessian\u001b[0;34m(self, x)\u001b[0m\n\u001b[1;32m     23\u001b[0m \u001b[0;34m\u001b[0m\u001b[0m\n\u001b[1;32m     24\u001b[0m     \u001b[0;32mdef\u001b[0m \u001b[0mhessian\u001b[0m\u001b[0;34m(\u001b[0m\u001b[0mself\u001b[0m\u001b[0;34m,\u001b[0m\u001b[0mx\u001b[0m\u001b[0;34m)\u001b[0m\u001b[0;34m:\u001b[0m\u001b[0;34m\u001b[0m\u001b[0m\n\u001b[0;32m---> 25\u001b[0;31m         \u001b[0mdf\u001b[0m \u001b[0;34m=\u001b[0m \u001b[0mnp\u001b[0m\u001b[0;34m.\u001b[0m\u001b[0mgradient\u001b[0m\u001b[0;34m(\u001b[0m\u001b[0mself\u001b[0m\u001b[0;34m.\u001b[0m\u001b[0mpotential\u001b[0m\u001b[0;34m(\u001b[0m\u001b[0;34m)\u001b[0m\u001b[0;34m)\u001b[0m\u001b[0;34m\u001b[0m\u001b[0m\n\u001b[0m\u001b[1;32m     26\u001b[0m         \u001b[0;32mreturn\u001b[0m \u001b[0mdf\u001b[0m\u001b[0;34m\u001b[0m\u001b[0m\n\u001b[1;32m     27\u001b[0m \u001b[0;34m\u001b[0m\u001b[0m\n",
      "\u001b[0;31mTypeError\u001b[0m: potential() missing 1 required positional argument: 'x'"
     ]
    }
   ],
   "source": [
    "pot1.hessian(equilibrium_vals)"
   ]
  },
  {
   "cell_type": "code",
   "execution_count": null,
   "metadata": {
    "collapsed": false
   },
   "outputs": [],
   "source": []
  },
  {
   "cell_type": "code",
   "execution_count": 272,
   "metadata": {
    "collapsed": false
   },
   "outputs": [
    {
     "data": {
      "text/plain": [
       "array([[ 0.,  0.],\n",
       "       [ 0.,  0.]])"
      ]
     },
     "execution_count": 272,
     "metadata": {},
     "output_type": "execute_result"
    }
   ],
   "source": [
    "np.zeros((2,2))"
   ]
  },
  {
   "cell_type": "code",
   "execution_count": 355,
   "metadata": {
    "collapsed": false
   },
   "outputs": [],
   "source": []
  },
  {
   "cell_type": "code",
   "execution_count": 359,
   "metadata": {
    "collapsed": false
   },
   "outputs": [],
   "source": []
  },
  {
   "cell_type": "code",
   "execution_count": 12,
   "metadata": {
    "collapsed": false
   },
   "outputs": [],
   "source": []
  },
  {
   "cell_type": "code",
   "execution_count": null,
   "metadata": {
    "collapsed": false
   },
   "outputs": [],
   "source": []
  },
  {
   "cell_type": "code",
   "execution_count": null,
   "metadata": {
    "collapsed": false
   },
   "outputs": [],
   "source": []
  },
  {
   "cell_type": "code",
   "execution_count": null,
   "metadata": {
    "collapsed": false
   },
   "outputs": [],
   "source": []
  }
 ],
 "metadata": {
  "kernelspec": {
   "display_name": "Python 2",
   "language": "python",
   "name": "python2"
  },
  "language_info": {
   "codemirror_mode": {
    "name": "ipython",
    "version": 2
   },
   "file_extension": ".py",
   "mimetype": "text/x-python",
   "name": "python",
   "nbconvert_exporter": "python",
   "pygments_lexer": "ipython2",
   "version": "2.7.6"
  }
 },
 "nbformat": 4,
 "nbformat_minor": 0
}
