{
 "metadata": {
  "name": ""
 },
 "nbformat": 3,
 "nbformat_minor": 0,
 "worksheets": [
  {
   "cells": [
    {
     "cell_type": "code",
     "collapsed": false,
     "input": [
      "class Harmonic_Paul_trap(object):\n",
      "    def __init__(self, trap_params):\n",
      "        \n",
      "        self.trap_params = trap_params\n",
      "        \n",
      "    def field(self, x):\n",
      "        # assume trap is centred at x = 0\n",
      "        x_atomic = x#*codata.value('atomic unit of length')\n",
      "        trap_params_atomic = self.trap_params*codata.value('atomic unit of electric potential')\n",
      "        field_val = trap_params_atomic*np.power(x_atomic,2)\n",
      "        return np.array(field_val)\n",
      "    "
     ],
     "language": "python",
     "metadata": {},
     "outputs": [],
     "prompt_number": 121
    },
    {
     "cell_type": "code",
     "collapsed": false,
     "input": [
      "class Potential(object):\n",
      "    def __init__(self, trap, sphere_1, sphere_2):\n",
      "        \n",
      "        self.trap = trap\n",
      "        self.sphere_1 = sphere_1\n",
      "        self.sphere_2 = sphere_2\n",
      "        \n",
      "    def potential(self,x):        \n",
      "        \n",
      "        potential_val_trap = self.sphere_1.charge()*self.trap.field(x[[0]]) + sphere_2.charge()*self.trap.field(x[[1]])\n",
      "        potential_val_ions = self.sphere_1.charge()*self.sphere_2.field(x[[0]],x[[1]]) + self.sphere_2.charge()*self.sphere_1.field(x[[0]],x[[1]])\n",
      "        \n",
      "        potential_val = potential_val_trap + potential_val_ions\n",
      "        \n",
      "        return np.array(potential_val)\n",
      "    \n",
      "    def equilibrium(self):\n",
      "        x0 = np.array([-1,1])\n",
      "        res = minimize(self.potential, x0, method='nelder-mead',options={'xtol': 1e-8, 'disp': True})\n",
      "        \n",
      "        return res.x\n",
      "    \n",
      "        "
     ],
     "language": "python",
     "metadata": {},
     "outputs": [],
     "prompt_number": 122
    },
    {
     "cell_type": "code",
     "collapsed": false,
     "input": [
      "class Nanosphere(object):\n",
      "    def __init__(self, sphere_charge, sphere_radius, sphere_mass):\n",
      "        \n",
      "        self.sphere_charge = sphere_charge\n",
      "        self.sphere_radius = sphere_radius\n",
      "        self.sphere_mass = sphere_mass\n",
      "        \n",
      "    def charge(self):\n",
      "        \n",
      "        charge_val = codata.value('atomic unit of charge')*self.sphere_charge\n",
      "        return np.array(charge_val)\n",
      "    \n",
      "    def mass(self):\n",
      "        \n",
      "        mass_val = codata.value('atomic mass constant')*self.sphere_mass\n",
      "        return np.array(mass_val)\n",
      "    \n",
      "    def field(self,x,x_sphere):\n",
      "        \n",
      "        x_atomic = x*codata.value('atomic unit of length')\n",
      "        x_sphere_atomic = x_sphere*codata.value('atomic unit of length')\n",
      "        vac_perm = codata.value('atomic unit of permittivity')\n",
      "        \n",
      "        field_val = self.charge()/(4.0*np.pi*vac_perm)/np.absolute(x_atomic-x_sphere_atomic)\n",
      "        \n",
      "        return np.array(field_val)\n",
      "    \n",
      "        \n",
      "        "
     ],
     "language": "python",
     "metadata": {},
     "outputs": [],
     "prompt_number": 123
    },
    {
     "cell_type": "code",
     "collapsed": false,
     "input": [
      "import scipy\n",
      "from scipy.constants import codata\n",
      "import numpy as np\n",
      "import math\n",
      "import matplotlib.pyplot as plt\n",
      "import pylab\n",
      "from mpl_toolkits.mplot3d import Axes3D\n",
      "import matplotlib.pyplot as plt\n",
      "from matplotlib import cm\n",
      "from matplotlib.ticker import LinearLocator, FormatStrFormatter\n",
      "import numpy as np\n",
      "from scipy.optimize import minimize"
     ],
     "language": "python",
     "metadata": {},
     "outputs": [],
     "prompt_number": 92
    },
    {
     "cell_type": "code",
     "collapsed": false,
     "input": [
      "sphere_1 = Nanosphere(2,1,1)\n",
      "\n",
      "sphere_2 = Nanosphere(2,1,1)\n",
      "trap = Harmonic_Paul_trap(10)\n",
      "pot1 = Potential(trap, sphere_1, sphere_2)"
     ],
     "language": "python",
     "metadata": {},
     "outputs": [],
     "prompt_number": 118
    },
    {
     "cell_type": "code",
     "collapsed": false,
     "input": [
      "equilibrium_vals = pot1.equilibrium()"
     ],
     "language": "python",
     "metadata": {},
     "outputs": [
      {
       "output_type": "stream",
       "stream": "stdout",
       "text": [
        "Optimization terminated successfully.\n",
        "         Current function value: 0.000000\n",
        "         Iterations: 67\n",
        "         Function evaluations: 127\n"
       ]
      }
     ],
     "prompt_number": 119
    },
    {
     "cell_type": "code",
     "collapsed": false,
     "input": [
      "x = np.linspace(-3,3,1000)\n",
      "field_1 = sphere_1.field(x,equilibrium_vals[[0]])\n",
      "field_2 = sphere_2.field(x,equilibrium_vals[[1]])\n",
      "field_trap = trap.field(x)\n",
      "y = field_1 + field_2 + field_trap\n",
      "plt.plot(x,y)\n",
      "plt.show()"
     ],
     "language": "python",
     "metadata": {},
     "outputs": [],
     "prompt_number": 120
    },
    {
     "cell_type": "code",
     "collapsed": false,
     "input": [],
     "language": "python",
     "metadata": {},
     "outputs": [],
     "prompt_number": 11
    },
    {
     "cell_type": "code",
     "collapsed": false,
     "input": [],
     "language": "python",
     "metadata": {},
     "outputs": [],
     "prompt_number": 12
    },
    {
     "cell_type": "code",
     "collapsed": false,
     "input": [],
     "language": "python",
     "metadata": {},
     "outputs": [],
     "prompt_number": "*"
    },
    {
     "cell_type": "code",
     "collapsed": false,
     "input": [],
     "language": "python",
     "metadata": {},
     "outputs": [],
     "prompt_number": "*"
    },
    {
     "cell_type": "code",
     "collapsed": false,
     "input": [],
     "language": "python",
     "metadata": {},
     "outputs": [],
     "prompt_number": 355
    },
    {
     "cell_type": "code",
     "collapsed": false,
     "input": [],
     "language": "python",
     "metadata": {},
     "outputs": [],
     "prompt_number": 359
    },
    {
     "cell_type": "code",
     "collapsed": false,
     "input": [],
     "language": "python",
     "metadata": {},
     "outputs": [],
     "prompt_number": 12
    },
    {
     "cell_type": "code",
     "collapsed": false,
     "input": [],
     "language": "python",
     "metadata": {},
     "outputs": []
    },
    {
     "cell_type": "code",
     "collapsed": false,
     "input": [],
     "language": "python",
     "metadata": {},
     "outputs": []
    },
    {
     "cell_type": "code",
     "collapsed": false,
     "input": [],
     "language": "python",
     "metadata": {},
     "outputs": []
    }
   ],
   "metadata": {}
  }
 ]
}